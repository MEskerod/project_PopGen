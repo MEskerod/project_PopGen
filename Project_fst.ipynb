{
 "cells": [
  {
   "cell_type": "markdown",
   "id": "c27a4940-a1d2-4a57-8d58-f6d5025824aa",
   "metadata": {},
   "source": [
    "# Fst calculations\n",
    "\n",
    "Fst is calculated between sets of populations using vcftools. \n",
    "The output is a .txt-like file containing Fst per position. "
   ]
  },
  {
   "cell_type": "markdown",
   "id": "159376f3-c85f-498b-a2ee-f0440bf8c62f",
   "metadata": {},
   "source": [
    "## Import files\n",
    "\n",
    "First the files are imported and NaN is removed"
   ]
  },
  {
   "cell_type": "code",
   "execution_count": 1,
   "id": "ad25cba5-0b8e-4dc4-bddd-e17ee834d456",
   "metadata": {},
   "outputs": [
    {
     "name": "stderr",
     "output_type": "stream",
     "text": [
      "\n",
      "Attaching package: ‘dplyr’\n",
      "\n",
      "\n",
      "The following objects are masked from ‘package:stats’:\n",
      "\n",
      "    filter, lag\n",
      "\n",
      "\n",
      "The following objects are masked from ‘package:base’:\n",
      "\n",
      "    intersect, setdiff, setequal, union\n",
      "\n",
      "\n"
     ]
    }
   ],
   "source": [
    "library(dplyr)\n",
    "library(ggplot2)"
   ]
  },
  {
   "cell_type": "code",
   "execution_count": 2,
   "id": "96404113-cffe-482f-aa29-d93b9accc4e2",
   "metadata": {},
   "outputs": [],
   "source": [
    "YRI_LWK <- read.table(\"Fst/YRI-LWK.weir.fst\", header=TRUE)\n",
    "YRI_LWK <- na.omit(YRI_LWK)"
   ]
  },
  {
   "cell_type": "code",
   "execution_count": 3,
   "id": "d9d28dc6-c09b-4c75-a8c0-5a8731f85b5a",
   "metadata": {},
   "outputs": [],
   "source": [
    "YRI_GWD <- read.table(\"Fst/YRI-GWD.weir.fst\", header=TRUE)\n",
    "YRI_GWD <- na.omit(YRI_GWD)"
   ]
  },
  {
   "cell_type": "code",
   "execution_count": 4,
   "id": "3ce9ed06-08a9-462e-9a8d-af292349cbb5",
   "metadata": {},
   "outputs": [],
   "source": [
    "YRI_MSL <- read.table(\"Fst/YRI-MSL.weir.fst\", header = TRUE)\n",
    "YRI_MSL <- na.omit(YRI_MSL)"
   ]
  },
  {
   "cell_type": "code",
   "execution_count": 5,
   "id": "d41522c9-4a6f-4254-904e-594bcf3a15df",
   "metadata": {},
   "outputs": [],
   "source": [
    "YRI_ESN <- read.table(\"Fst/YRI-ESN.weir.fst\", header = TRUE) \n",
    "YRI_ESN <- na.omit(YRI_ESN)"
   ]
  },
  {
   "cell_type": "code",
   "execution_count": 6,
   "id": "36d61444-6bab-440d-8dd6-b4247c7387c1",
   "metadata": {},
   "outputs": [],
   "source": [
    "LWK_GWD <- read.table(\"Fst/LWK-GWD.weir.fst\", header = TRUE)\n",
    "LWK_GWD <- na.omit(LWK_GWD)"
   ]
  },
  {
   "cell_type": "code",
   "execution_count": 7,
   "id": "dca02243-88a4-4bc8-b379-40c1e91cfae9",
   "metadata": {},
   "outputs": [],
   "source": [
    "LWK_MSL <- read.table(\"Fst/LWK-MSL.weir.fst\", header = TRUE) \n",
    "LWK_MSL <- na.omit(LWK_MSL)"
   ]
  },
  {
   "cell_type": "code",
   "execution_count": 8,
   "id": "11578723-20aa-4412-a782-301ca85246ae",
   "metadata": {},
   "outputs": [],
   "source": [
    "LWK_ESN <- read.table(\"Fst/LWK-ESN.weir.fst\", header=TRUE)\n",
    "LWK_ESN <- na.omit(LWK_ESN)"
   ]
  },
  {
   "cell_type": "code",
   "execution_count": 9,
   "id": "8375bb1b-09a4-4462-b425-d2f1a35814a3",
   "metadata": {},
   "outputs": [],
   "source": [
    "GWD_MSL <- read.table(\"Fst/GWD-MSL.weir.fst\", header = TRUE) \n",
    "GWD_MSL <- na.omit(GWD_MSL)"
   ]
  },
  {
   "cell_type": "code",
   "execution_count": 10,
   "id": "ba2cd017-717b-47e9-a407-bbf63b0c1b46",
   "metadata": {},
   "outputs": [],
   "source": [
    "GWD_ESN <- read.table(\"Fst/GWD-ESN.weir.fst\", header = TRUE) \n",
    "GWD_ESN <- na.omit(GWD_ESN) "
   ]
  },
  {
   "cell_type": "code",
   "execution_count": 11,
   "id": "3eabc6bd-7abc-487f-acf6-6f9517ca88b7",
   "metadata": {},
   "outputs": [],
   "source": [
    "MSL_ESN <- read.table(\"Fst/MSL-ESN.weir.fst\", header = TRUE) \n",
    "MSL_ESN <- na.omit(MSL_ESN)"
   ]
  },
  {
   "cell_type": "markdown",
   "id": "0adb0a43-0485-4a98-96a7-3782bbc9d928",
   "metadata": {},
   "source": [
    "## Setup for sliding windows\n",
    "\n",
    "We define a function that can calculate Fst for sliding windows with a given size and a given step size"
   ]
  },
  {
   "cell_type": "code",
   "execution_count": 12,
   "id": "78780fac-4117-4f62-9608-b323f2cc2538",
   "metadata": {},
   "outputs": [],
   "source": [
    "slide_windows <- function(fst_data, window_size, step_size){\n",
    "    n_sites <- nrow(fst_data)\n",
    "    n_windows <- floor((n_sites - window_size)/step_size)+1\n",
    "    \n",
    "    window_start <- seq(1, n_sites - window_size+1, by=step_size)\n",
    "    window_end <- window_start + window_size - 1\n",
    "    \n",
    "    fst_window <- data.frame(matrix(ncol = 4, nrow = n_windows))\n",
    "    colnames(fst_window) <- c(\"CHROM\", \"WINDOW_START\", \"WINDOW_END\", \"MEAN_FST\")\n",
    "    \n",
    "    for (i in 1:n_windows) {\n",
    "        fst_window$CHROM[i] <- fst_data$CHROM[window_start[i]]\n",
    "        fst_window$WINDOW_START[i] <- fst_data$POS[window_start[i]]\n",
    "        fst_window$WINDOW_END[i] <- fst_data$POS[window_end[i]]\n",
    "        fst_window$MEAN_FST[i] <- mean(fst_data$WEIR_AND_COCKERHAM_FST[window_start[i]:window_end[i]])\n",
    "    }\n",
    "    return(fst_window)\n",
    "}"
   ]
  },
  {
   "cell_type": "markdown",
   "id": "6370e59e-ae34-40ec-8915-499282927d77",
   "metadata": {},
   "source": [
    "## Calculate FST"
   ]
  },
  {
   "cell_type": "code",
   "execution_count": 13,
   "id": "de66e015-fff4-44f1-a9a0-700185272092",
   "metadata": {},
   "outputs": [],
   "source": [
    "window_size <- 100 \n",
    "window_step <- 50"
   ]
  },
  {
   "cell_type": "code",
   "execution_count": 14,
   "id": "04293c12-dccc-4b85-aa4d-ac1c2013c746",
   "metadata": {},
   "outputs": [],
   "source": [
    "fst_YRI_LWK <- slide_windows(YRI_LWK, window_size, window_step) %>%\n",
    "   mutate(MEAN_FST = ifelse(MEAN_FST < 0, 0, MEAN_FST),\n",
    "         in_Range = ((WINDOW_START >= 4.6e+07 & WINDOW_START < 4.7e+07)|\n",
    "                   (WINDOW_START >= 4.8e+07 & WINDOW_START < 4.9e+07)|\n",
    "                   (WINDOW_START >= 5.0e+07 & WINDOW_START < 5.1e+07)|\n",
    "                   (WINDOW_START >= 5.2e+07 & WINDOW_START < 5.3e+07)))\n",
    "fst_YRI_GWD <- slide_windows(YRI_GWD, window_size, window_step) %>%\n",
    "   mutate(MEAN_FST = ifelse(MEAN_FST < 0, 0, MEAN_FST),\n",
    "         in_Range = ((WINDOW_START >= 4.6e+07 & WINDOW_START < 4.7e+07)|\n",
    "                   (WINDOW_START >= 4.8e+07 & WINDOW_START < 4.9e+07)|\n",
    "                   (WINDOW_START >= 5.0e+07 & WINDOW_START < 5.1e+07)|\n",
    "                   (WINDOW_START >= 5.2e+07 & WINDOW_START < 5.3e+07)))\n",
    "fst_YRI_MSL <- slide_windows(YRI_MSL, window_size, window_step) %>%\n",
    "   mutate(MEAN_FST = ifelse(MEAN_FST < 0, 0, MEAN_FST),\n",
    "         in_Range = ((WINDOW_START >= 4.6e+07 & WINDOW_START < 4.7e+07)|\n",
    "                   (WINDOW_START >= 4.8e+07 & WINDOW_START < 4.9e+07)|\n",
    "                   (WINDOW_START >= 5.0e+07 & WINDOW_START < 5.1e+07)|\n",
    "                   (WINDOW_START >= 5.2e+07 & WINDOW_START < 5.3e+07)))\n",
    "fst_YRI_ESN <- slide_windows(YRI_ESN, window_size, window_step) %>%\n",
    "   mutate(MEAN_FST = ifelse(MEAN_FST < 0, 0, MEAN_FST), \n",
    "         in_Range = ((WINDOW_START >= 4.6e+07 & WINDOW_START < 4.7e+07)|\n",
    "                   (WINDOW_START >= 4.8e+07 & WINDOW_START < 4.9e+07)|\n",
    "                   (WINDOW_START >= 5.0e+07 & WINDOW_START < 5.1e+07)|\n",
    "                   (WINDOW_START >= 5.2e+07 & WINDOW_START < 5.3e+07)))\n",
    "fst_LWK_GWD <- slide_windows(LWK_GWD, window_size, window_step) %>%\n",
    "   mutate(MEAN_FST = ifelse(MEAN_FST < 0, 0, MEAN_FST),\n",
    "         in_Range = ((WINDOW_START >= 4.6e+07 & WINDOW_START < 4.7e+07)|\n",
    "                   (WINDOW_START >= 4.8e+07 & WINDOW_START < 4.9e+07)|\n",
    "                   (WINDOW_START >= 5.0e+07 & WINDOW_START < 5.1e+07)|\n",
    "                   (WINDOW_START >= 5.2e+07 & WINDOW_START < 5.3e+07)))\n",
    "fst_LWK_MSL <- slide_windows(LWK_MSL, window_size, window_step) %>%\n",
    "   mutate(MEAN_FST = ifelse(MEAN_FST < 0, 0, MEAN_FST), \n",
    "         in_Range = ((WINDOW_START >= 4.6e+07 & WINDOW_START < 4.7e+07)|\n",
    "                   (WINDOW_START >= 4.8e+07 & WINDOW_START < 4.9e+07)|\n",
    "                   (WINDOW_START >= 5.0e+07 & WINDOW_START < 5.1e+07)|\n",
    "                   (WINDOW_START >= 5.2e+07 & WINDOW_START < 5.3e+07)))\n",
    "fst_LWK_ESN <- slide_windows(LWK_ESN, window_size, window_step) %>%\n",
    "   mutate(MEAN_FST = ifelse(MEAN_FST < 0, 0, MEAN_FST), \n",
    "         in_Range = ((WINDOW_START >= 4.6e+07 & WINDOW_START < 4.7e+07)|\n",
    "                   (WINDOW_START >= 4.8e+07 & WINDOW_START < 4.9e+07)|\n",
    "                   (WINDOW_START >= 5.0e+07 & WINDOW_START < 5.1e+07)|\n",
    "                   (WINDOW_START >= 5.2e+07 & WINDOW_START < 5.3e+07)))\n",
    "fst_GWD_MSL <- slide_windows(GWD_MSL, window_size, window_step) %>%\n",
    "   mutate(MEAN_FST = ifelse(MEAN_FST < 0, 0, MEAN_FST), \n",
    "         in_Range = ((WINDOW_START >= 4.6e+07 & WINDOW_START < 4.7e+07)|\n",
    "                   (WINDOW_START >= 4.8e+07 & WINDOW_START < 4.9e+07)|\n",
    "                   (WINDOW_START >= 5.0e+07 & WINDOW_START < 5.1e+07)|\n",
    "                   (WINDOW_START >= 5.2e+07 & WINDOW_START < 5.3e+07)))\n",
    "fst_GWD_ESN <- slide_windows(GWD_ESN, window_size, window_step) %>%\n",
    "   mutate(MEAN_FST = ifelse(MEAN_FST < 0, 0, MEAN_FST), \n",
    "         in_Range = ((WINDOW_START >= 4.6e+07 & WINDOW_START < 4.7e+07)|\n",
    "                   (WINDOW_START >= 4.8e+07 & WINDOW_START < 4.9e+07)|\n",
    "                   (WINDOW_START >= 5.0e+07 & WINDOW_START < 5.1e+07)|\n",
    "                   (WINDOW_START >= 5.2e+07 & WINDOW_START < 5.3e+07)))\n",
    "fst_MSL_ESN <- slide_windows(MSL_ESN, window_size, window_step) %>%\n",
    "   mutate(MEAN_FST = ifelse(MEAN_FST < 0, 0, MEAN_FST), \n",
    "         in_Range = ((WINDOW_START >= 4.6e+07 & WINDOW_START < 4.7e+07)|\n",
    "                   (WINDOW_START >= 4.8e+07 & WINDOW_START < 4.9e+07)|\n",
    "                   (WINDOW_START >= 5.0e+07 & WINDOW_START < 5.1e+07)|\n",
    "                   (WINDOW_START >= 5.2e+07 & WINDOW_START < 5.3e+07)))"
   ]
  },
  {
   "cell_type": "markdown",
   "id": "b411bc13-8e37-4559-99d0-1e8a1f040b3d",
   "metadata": {},
   "source": [
    "## Find significant using permutations"
   ]
  },
  {
   "cell_type": "code",
   "execution_count": 15,
   "id": "48cda415-c33d-4708-aaaf-50a0fe8b21a2",
   "metadata": {},
   "outputs": [
    {
     "data": {
      "text/html": [
       "<table class=\"dataframe\">\n",
       "<caption>A data.frame: 6 × 3</caption>\n",
       "<thead>\n",
       "\t<tr><th></th><th scope=col>POS</th><th scope=col>WEIR_AND_COCKERHAM_FST</th><th scope=col>CHROM</th></tr>\n",
       "\t<tr><th></th><th scope=col>&lt;int&gt;</th><th scope=col>&lt;dbl&gt;</th><th scope=col>&lt;int&gt;</th></tr>\n",
       "</thead>\n",
       "<tbody>\n",
       "\t<tr><th scope=row>1</th><td>46000028</td><td> 4.42055e-04</td><td>3</td></tr>\n",
       "\t<tr><th scope=row>2</th><td>46000028</td><td> 1.11026e-16</td><td>3</td></tr>\n",
       "\t<tr><th scope=row>3</th><td>46000028</td><td> 6.72933e-04</td><td>3</td></tr>\n",
       "\t<tr><th scope=row>4</th><td>46000028</td><td>-7.77580e-04</td><td>3</td></tr>\n",
       "\t<tr><th scope=row>5</th><td>46000225</td><td>-2.01254e-04</td><td>3</td></tr>\n",
       "\t<tr><th scope=row>6</th><td>46000225</td><td> 1.42863e-03</td><td>3</td></tr>\n",
       "</tbody>\n",
       "</table>\n"
      ],
      "text/latex": [
       "A data.frame: 6 × 3\n",
       "\\begin{tabular}{r|lll}\n",
       "  & POS & WEIR\\_AND\\_COCKERHAM\\_FST & CHROM\\\\\n",
       "  & <int> & <dbl> & <int>\\\\\n",
       "\\hline\n",
       "\t1 & 46000028 &  4.42055e-04 & 3\\\\\n",
       "\t2 & 46000028 &  1.11026e-16 & 3\\\\\n",
       "\t3 & 46000028 &  6.72933e-04 & 3\\\\\n",
       "\t4 & 46000028 & -7.77580e-04 & 3\\\\\n",
       "\t5 & 46000225 & -2.01254e-04 & 3\\\\\n",
       "\t6 & 46000225 &  1.42863e-03 & 3\\\\\n",
       "\\end{tabular}\n"
      ],
      "text/markdown": [
       "\n",
       "A data.frame: 6 × 3\n",
       "\n",
       "| <!--/--> | POS &lt;int&gt; | WEIR_AND_COCKERHAM_FST &lt;dbl&gt; | CHROM &lt;int&gt; |\n",
       "|---|---|---|---|\n",
       "| 1 | 46000028 |  4.42055e-04 | 3 |\n",
       "| 2 | 46000028 |  1.11026e-16 | 3 |\n",
       "| 3 | 46000028 |  6.72933e-04 | 3 |\n",
       "| 4 | 46000028 | -7.77580e-04 | 3 |\n",
       "| 5 | 46000225 | -2.01254e-04 | 3 |\n",
       "| 6 | 46000225 |  1.42863e-03 | 3 |\n",
       "\n"
      ],
      "text/plain": [
       "  POS      WEIR_AND_COCKERHAM_FST CHROM\n",
       "1 46000028  4.42055e-04           3    \n",
       "2 46000028  1.11026e-16           3    \n",
       "3 46000028  6.72933e-04           3    \n",
       "4 46000028 -7.77580e-04           3    \n",
       "5 46000225 -2.01254e-04           3    \n",
       "6 46000225  1.42863e-03           3    "
      ]
     },
     "metadata": {},
     "output_type": "display_data"
    }
   ],
   "source": [
    "#Make a data frame containing all the Fst values and the positions \n",
    "Fst <- data.frame(POS = c(YRI_LWK$POS, YRI_GWD$POS, YRI_MSL$POS, YRI_ESN$POS, LWK_GWD$POS, LWK_MSL$POS, \n",
    "                               LWK_ESN$POS, GWD_MSL$POS, GWD_ESN$POS, MSL_ESN$POS), \n",
    "                  WEIR_AND_COCKERHAM_FST = c(YRI_LWK$WEIR_AND_COCKERHAM_FST, YRI_GWD$WEIR_AND_COCKERHAM_FST, YRI_MSL$WEIR_AND_COCKERHAM_FST, \n",
    "                          YRI_ESN$WEIR_AND_COCKERHAM_FST, LWK_GWD$WEIR_AND_COCKERHAM_FST, LWK_MSL$WEIR_AND_COCKERHAM_FST, \n",
    "                          LWK_ESN$WEIR_AND_COCKERHAM_FST, GWD_MSL$WEIR_AND_COCKERHAM_FST, GWD_ESN$WEIR_AND_COCKERHAM_FST, \n",
    "                          MSL_ESN$WEIR_AND_COCKERHAM_FST), \n",
    "                 CHROM = c(YRI_LWK$CHROM, YRI_GWD$CHROM, YRI_MSL$CHROM, YRI_ESN$CHROM, LWK_GWD$CHROM, \n",
    "                           LWK_MSL$CHROM, LWK_ESN$CHROM, GWD_MSL$CHROM, GWD_ESN$CHROM, MSL_ESN$CHROM)) %>%\n",
    "arrange(POS)\n",
    "\n",
    "head(Fst)"
   ]
  },
  {
   "cell_type": "code",
   "execution_count": 19,
   "id": "f6bf9ac6-b9ba-4fd0-8529-723b9bf9e94a",
   "metadata": {},
   "outputs": [
    {
     "name": "stdout",
     "output_type": "stream",
     "text": [
      "...................................................................................................."
     ]
    }
   ],
   "source": [
    "n = 10000\n",
    "permuted <- tibble()\n",
    "sample_Fst <- Fst\n",
    "\n",
    "window_size <- 100 \n",
    "window_step <- 50\n",
    "\n",
    "for (i in 1:n){\n",
    "    sample_Fst$fst <- sample(sample_Fst$fst)\n",
    "    windows <- slide_windows(sample_Fst, window_size, window_step)\n",
    "    permuted <- bind_rows(permuted, tibble(fst = windows$MEAN_FST, pos = windows$WINDOW_START))\n",
    "    if(i%%50==0) {   # Progress tracker\n",
    "    cat(\".\")       \n",
    "    flush.console()\n",
    "  }\n",
    "}\n",
    "\n",
    "permuted <- permuted %>%\n",
    "   arrange(fst)\n",
    "\n",
    "saveRDS(permuted, \"permuted_fst_windows.rds\")"
   ]
  },
  {
   "cell_type": "code",
   "execution_count": 16,
   "id": "34311333-6f69-4d52-833d-e253aca6f414",
   "metadata": {},
   "outputs": [],
   "source": [
    "permuted <- readRDS(\"permuted_fst_windows.rds\")"
   ]
  },
  {
   "cell_type": "markdown",
   "id": "21d09f8e-f3a8-4caf-94b7-40acd4645fbb",
   "metadata": {},
   "source": [
    "Plots of the permuted data are based on 1000 permutations instead of 10,000"
   ]
  },
  {
   "cell_type": "code",
   "execution_count": 20,
   "id": "1aeccffe-0855-4697-9103-992f0770072e",
   "metadata": {},
   "outputs": [
    {
     "data": {
      "image/png": "[encoded data removed]",
      "text/plain": [
       "plot without title"
      ]
     },
     "metadata": {
      "image/png": {
       "height": 420,
       "width": 420
      }
     },
     "output_type": "display_data"
    }
   ],
   "source": [
    "ggplot(permuted_plot) +\n",
    "geom_point(aes(x=pos, y=fst))"
   ]
  },
  {
   "cell_type": "code",
   "execution_count": 18,
   "id": "605c1c2d-651a-4c91-9d67-4b41252d48a7",
   "metadata": {},
   "outputs": [
    {
     "data": {
      "text/html": [
       "<strong>null device:</strong> 1"
      ],
      "text/latex": [
       "\\textbf{null device:} 1"
      ],
      "text/markdown": [
       "**null device:** 1"
      ],
      "text/plain": [
       "null device \n",
       "          1 "
      ]
     },
     "metadata": {},
     "output_type": "display_data"
    },
    {
     "data": {
      "image/png": "[encoded data removed]",
      "text/plain": [
       "plot without title"
      ]
     },
     "metadata": {
      "image/png": {
       "height": 420,
       "width": 420
      }
     },
     "output_type": "display_data"
    }
   ],
   "source": [
    "#Gives the null distribution\n",
    "#pdf(file=\"plots/permutedFst.pdf\", width = 8, height = 8)\n",
    "ggplot(permuted) + \n",
    "   geom_histogram(aes(fst), bins = 100) +\n",
    "   theme_bw() +\n",
    "   labs(title = \"Permuted Fst values\", x = \"Fst\", y=\"Frequency\") +\n",
    "   theme(axis.title = element_text(size=18), axis.text = element_text(size=12), plot.title = element_text(size=20))\n",
    "#dev.off()"
   ]
  },
  {
   "cell_type": "code",
   "execution_count": 22,
   "id": "51edd0e4-6311-4428-9aa0-a92e466ea040",
   "metadata": {},
   "outputs": [
    {
     "data": {
      "image/png": "[encoded data removed]",
      "text/plain": [
       "plot without title"
      ]
     },
     "metadata": {
      "image/png": {
       "height": 420,
       "width": 420
      }
     },
     "output_type": "display_data"
    }
   ],
   "source": [
    "ggplot(fst_long) + \n",
    "   geom_histogram(aes(fst), bins = 100) +\n",
    "   theme_bw() +\n",
    "   labs(title = \"Fst values\", x = \"Fst\", y=\"Frequency\") +\n",
    "   theme(axis.title = element_text(size=18), axis.text = element_text(size=12), plot.title = element_text(size=20))"
   ]
  },
  {
   "cell_type": "code",
   "execution_count": 23,
   "id": "2264efae-4270-43ca-8084-7f3bf78c8680",
   "metadata": {},
   "outputs": [
    {
     "data": {
      "text/html": [
       "<strong>99%:</strong> 0.01555081222"
      ],
      "text/latex": [
       "\\textbf{99\\textbackslash{}\\%:} 0.01555081222"
      ],
      "text/markdown": [
       "**99%:** 0.01555081222"
      ],
      "text/plain": [
       "       99% \n",
       "0.01555081 "
      ]
     },
     "metadata": {},
     "output_type": "display_data"
    }
   ],
   "source": [
    "critical_value <- quantile(permuted$fst, 0.99)\n",
    "\n",
    "critical_value"
   ]
  },
  {
   "cell_type": "code",
   "execution_count": 29,
   "id": "01997111-0bc4-42b0-a897-9c4910a477ae",
   "metadata": {},
   "outputs": [
    {
     "data": {
      "text/html": [
       "<strong>png:</strong> 2"
      ],
      "text/latex": [
       "\\textbf{png:} 2"
      ],
      "text/markdown": [
       "**png:** 2"
      ],
      "text/plain": [
       "png \n",
       "  2 "
      ]
     },
     "metadata": {},
     "output_type": "display_data"
    }
   ],
   "source": [
    "pdf(file=\"plots/Fstall.pdf\", width = 8, height = 8)\n",
    "#library(repr)\n",
    "#options(repr.plot.width = 8, repr.plot.height = 8)\n",
    "ggplot() + \n",
    "   geom_point(data = fst_YRI_LWK, aes(x=WINDOW_START, y=MEAN_FST), color = ifelse(fst_YRI_LWK$in_Range, \"navyblue\", \"cornflowerblue\")) +\n",
    "   geom_point(data = fst_YRI_GWD, aes(x=WINDOW_START, y=MEAN_FST), color = ifelse(fst_YRI_GWD$in_Range, \"navyblue\", \"cornflowerblue\")) +\n",
    "   geom_point(data = fst_YRI_MSL, aes(x=WINDOW_START, y=MEAN_FST), color = ifelse(fst_YRI_MSL$in_Range, \"navyblue\", \"cornflowerblue\")) +\n",
    "   geom_point(data = fst_YRI_ESN, aes(x=WINDOW_START, y=MEAN_FST), color = ifelse(fst_YRI_ESN$in_Range, \"navyblue\", \"cornflowerblue\")) +\n",
    "   geom_point(data = fst_LWK_GWD, aes(x=WINDOW_START, y=MEAN_FST), color = ifelse(fst_LWK_GWD$in_Range, \"navyblue\", \"cornflowerblue\")) +\n",
    "   geom_point(data = fst_LWK_MSL, aes(x=WINDOW_START, y=MEAN_FST), color = ifelse(fst_LWK_MSL$in_Range, \"navyblue\", \"cornflowerblue\")) +\n",
    "   geom_point(data = fst_LWK_ESN, aes(x=WINDOW_START, y=MEAN_FST), color = ifelse(fst_LWK_ESN$in_Range, \"navyblue\", \"cornflowerblue\")) +\n",
    "   geom_point(data = fst_GWD_MSL, aes(x=WINDOW_START, y=MEAN_FST), color = ifelse(fst_GWD_MSL$in_Range, \"navyblue\", \"cornflowerblue\")) +\n",
    "   geom_point(data = fst_GWD_ESN, aes(x=WINDOW_START, y=MEAN_FST), color = ifelse(fst_GWD_ESN$in_Range, \"navyblue\", \"cornflowerblue\")) +\n",
    "   geom_point(data = fst_MSL_ESN, aes(x=WINDOW_START, y=MEAN_FST), color = ifelse(fst_MSL_ESN$in_Range, \"navyblue\", \"cornflowerblue\")) +\n",
    "   geom_hline(yintercept = critical_value, color = \"red\", linetype = \"longdash\", linewidth = 1) +\n",
    "   labs(x=\"Position\", y=\"Fst\", title = \"Fst for all comparisons\") +\n",
    "   theme_bw() +\n",
    "   theme(axis.title = element_text(size=18), axis.text = element_text(size=12), plot.title = element_text(size=20))\n",
    "dev.off()"
   ]
  },
  {
   "cell_type": "code",
   "execution_count": 21,
   "id": "2bb5a347-b589-49b8-9856-83afb8c4aa62",
   "metadata": {},
   "outputs": [],
   "source": [
    "fst_long <- data.frame(fst = c(fst_YRI_LWK$MEAN_FST, fst_YRI_GWD$MEAN_FST, fst_YRI_MSL$MEAN_FST, fst_YRI_ESN$MEAN_FST, \n",
    "                               fst_LWK_GWD$MEAN_FST, fst_LWK_MSL$MEAN_FST, fst_LWK_ESN$MEAN_FST, fst_GWD_MSL$MEAN_FST, \n",
    "                               fst_GWD_ESN$MEAN_FST, fst_MSL_ESN$MEAN_FST), \n",
    "                       pos = c(fst_YRI_LWK$WINDOW_START, fst_YRI_GWD$WINDOW_START, fst_YRI_MSL$WINDOW_START, fst_YRI_ESN$WINDOW_START, \n",
    "                               fst_LWK_GWD$WINDOW_START, fst_LWK_MSL$WINDOW_START, fst_LWK_ESN$WINDOW_START, fst_GWD_MSL$WINDOW_START, \n",
    "                               fst_GWD_ESN$WINDOW_START, fst_MSL_ESN$WINDOW_START),\n",
    "                       in_Range = c(fst_YRI_LWK$in_Range, fst_YRI_GWD$in_Range, fst_YRI_MSL$in_Range, fst_YRI_ESN$in_Range, \n",
    "                               fst_LWK_GWD$in_Range, fst_LWK_MSL$in_Range, fst_LWK_ESN$in_Range, fst_GWD_MSL$in_Range, \n",
    "                               fst_GWD_ESN$in_Range, fst_MSL_ESN$in_Range),\n",
    "                       compare = c(rep(\"YRI/LWK\", nrow(fst_YRI_LWK)), rep(\"YRI/GWD\", nrow(fst_YRI_GWD)), rep(\"YRI/MSL\", nrow(fst_YRI_MSL)), \n",
    "                                   rep(\"YRI/ESN\", nrow(fst_YRI_ESN)), rep(\"LWK/GWD\", nrow(fst_LWK_GWD)), rep(\"LWK/MSL\", nrow(fst_LWK_MSL)), \n",
    "                                   rep(\"LWK/ESN\", nrow(fst_LWK_ESN)), rep(\"GWD/MSL\", nrow(fst_GWD_MSL)), rep(\"GWD/ESN\", nrow(fst_GWD_ESN)), \n",
    "                                   rep(\"MSL/ESN\", nrow(fst_MSL_ESN))))"
   ]
  },
  {
   "cell_type": "code",
   "execution_count": 33,
   "id": "52e0eb57-b8d5-4be0-8c09-6e2d63a4dd32",
   "metadata": {},
   "outputs": [
    {
     "data": {
      "text/html": [
       "<strong>png:</strong> 2"
      ],
      "text/latex": [
       "\\textbf{png:} 2"
      ],
      "text/markdown": [
       "**png:** 2"
      ],
      "text/plain": [
       "png \n",
       "  2 "
      ]
     },
     "metadata": {},
     "output_type": "display_data"
    }
   ],
   "source": [
    "pdf(file=\"plots/Fstpop.pdf\", width = 8, height = 6.5)\n",
    "#library(repr)\n",
    "#options(repr.plot.width = 8, repr.plot.height = 6.5)\n",
    "ggplot(fst_long) +\n",
    "   geom_point(aes(x=pos, y=fst), color = ifelse(fst_long$in_Range, \"navyblue\", \"cornflowerblue\"), size = 0.8) +\n",
    "   geom_hline(yintercept = critical_value, color = \"red\", linetype = \"longdash\") +\n",
    "   theme_bw() +\n",
    "   facet_wrap(~compare, ncol = 5) +\n",
    "   labs(x = \"Position\", y=\"Fst\", title = \"Fst for comparisons between populations\") +\n",
    "   theme(axis.text.x = element_text(angle = 90)) +\n",
    "   theme(axis.title = element_text(size=18), axis.text = element_text(size=12), plot.title = element_text(size=20))\n",
    "dev.off()"
   ]
  },
  {
   "cell_type": "markdown",
   "id": "0fb7da31-065b-41dd-a0dd-27a816da5e79",
   "metadata": {},
   "source": [
    "We now calculate how many windows has mean Fst higher than the critical value, and find the percentage in that tail. "
   ]
  },
  {
   "cell_type": "code",
   "execution_count": 29,
   "id": "b9ebbb1a-9b8f-4a22-9572-74aad2a4011b",
   "metadata": {},
   "outputs": [],
   "source": [
    "n_significant <- sum(fst_long$fst >= critical_value)"
   ]
  },
  {
   "cell_type": "code",
   "execution_count": 31,
   "id": "814044d3-966c-4ed6-a47f-dbba362a3d34",
   "metadata": {},
   "outputs": [
    {
     "data": {
      "text/html": [
       "0.0301152234636872"
      ],
      "text/latex": [
       "0.0301152234636872"
      ],
      "text/markdown": [
       "0.0301152234636872"
      ],
      "text/plain": [
       "[1] 0.03011522"
      ]
     },
     "metadata": {},
     "output_type": "display_data"
    }
   ],
   "source": [
    "n_significant/nrow(fst_long)"
   ]
  },
  {
   "cell_type": "markdown",
   "id": "0fdf8bc8-26a6-4515-9771-58781d06cfe7",
   "metadata": {},
   "source": [
    "The critical value was found from the permuted null distribution as the highest 1 %. \n",
    "In the data we observe 3% in the tail, which indicates more high Fst values than expected by chance."
   ]
  },
  {
   "cell_type": "code",
   "execution_count": 35,
   "id": "36647013-ba8f-41ea-82da-9dcfa00071be",
   "metadata": {},
   "outputs": [],
   "source": [
    "YRI_LWK <- sum(fst_YRI_LWK$MEAN_FST >= critical_value)/nrow(fst_YRI_LWK)\n",
    "YRI_GWD <- sum(fst_YRI_GWD$MEAN_FST >= critical_value)/nrow(fst_YRI_GWD)\n",
    "YRI_MSL <- sum(fst_YRI_MSL$MEAN_FST >= critical_value)/nrow(fst_YRI_MSL)\n",
    "YRI_ESN <- sum(fst_YRI_ESN$MEAN_FST >= critical_value)/nrow(fst_YRI_ESN)\n",
    "LWK_GWD <- sum(fst_LWK_GWD$MEAN_FST >= critical_value)/nrow(fst_LWK_GWD)\n",
    "LWK_MSL <- sum(fst_LWK_MSL$MEAN_FST >= critical_value)/nrow(fst_LWK_MSL)\n",
    "LWK_ESN <- sum(fst_LWK_ESN$MEAN_FST >= critical_value)/nrow(fst_LWK_ESN)\n",
    "GWD_MSL <- sum(fst_GWD_MSL$MEAN_FST >= critical_value)/nrow(fst_GWD_MSL)\n",
    "GWD_ESN <- sum(fst_GWD_ESN$MEAN_FST >= critical_value)/nrow(fst_GWD_ESN)\n",
    "MSL_ESN <- sum(fst_MSL_ESN$MEAN_FST >= critical_value)/nrow(fst_MSL_ESN)"
   ]
  },
  {
   "cell_type": "code",
   "execution_count": 40,
   "id": "e1707f4d-4231-4c47-9d5e-576b050dd752",
   "metadata": {},
   "outputs": [
    {
     "data": {
      "text/html": [
       "<table class=\"dataframe\">\n",
       "<caption>A data.frame: 10 × 2</caption>\n",
       "<thead>\n",
       "\t<tr><th scope=col>Comparison</th><th scope=col>Percent.in.tail</th></tr>\n",
       "\t<tr><th scope=col>&lt;chr&gt;</th><th scope=col>&lt;dbl&gt;</th></tr>\n",
       "</thead>\n",
       "<tbody>\n",
       "\t<tr><td>YRI-LWK</td><td>0.0197594502</td></tr>\n",
       "\t<tr><td>YRI-GWD</td><td>0.0405172414</td></tr>\n",
       "\t<tr><td>YRI-MSL</td><td>0.0055813953</td></tr>\n",
       "\t<tr><td>YRI-ESN</td><td>0.0000000000</td></tr>\n",
       "\t<tr><td>LWK-GWD</td><td>0.0881889764</td></tr>\n",
       "\t<tr><td>LWK-MSL</td><td>0.0571428571</td></tr>\n",
       "\t<tr><td>LWK-ESN</td><td>0.0233766234</td></tr>\n",
       "\t<tr><td>GWD-MSL</td><td>0.0000000000</td></tr>\n",
       "\t<tr><td>GWD-ESN</td><td>0.0522260274</td></tr>\n",
       "\t<tr><td>MSL-ESN</td><td>0.0009191176</td></tr>\n",
       "</tbody>\n",
       "</table>\n"
      ],
      "text/latex": [
       "A data.frame: 10 × 2\n",
       "\\begin{tabular}{ll}\n",
       " Comparison & Percent.in.tail\\\\\n",
       " <chr> & <dbl>\\\\\n",
       "\\hline\n",
       "\t YRI-LWK & 0.0197594502\\\\\n",
       "\t YRI-GWD & 0.0405172414\\\\\n",
       "\t YRI-MSL & 0.0055813953\\\\\n",
       "\t YRI-ESN & 0.0000000000\\\\\n",
       "\t LWK-GWD & 0.0881889764\\\\\n",
       "\t LWK-MSL & 0.0571428571\\\\\n",
       "\t LWK-ESN & 0.0233766234\\\\\n",
       "\t GWD-MSL & 0.0000000000\\\\\n",
       "\t GWD-ESN & 0.0522260274\\\\\n",
       "\t MSL-ESN & 0.0009191176\\\\\n",
       "\\end{tabular}\n"
      ],
      "text/markdown": [
       "\n",
       "A data.frame: 10 × 2\n",
       "\n",
       "| Comparison &lt;chr&gt; | Percent.in.tail &lt;dbl&gt; |\n",
       "|---|---|\n",
       "| YRI-LWK | 0.0197594502 |\n",
       "| YRI-GWD | 0.0405172414 |\n",
       "| YRI-MSL | 0.0055813953 |\n",
       "| YRI-ESN | 0.0000000000 |\n",
       "| LWK-GWD | 0.0881889764 |\n",
       "| LWK-MSL | 0.0571428571 |\n",
       "| LWK-ESN | 0.0233766234 |\n",
       "| GWD-MSL | 0.0000000000 |\n",
       "| GWD-ESN | 0.0522260274 |\n",
       "| MSL-ESN | 0.0009191176 |\n",
       "\n"
      ],
      "text/plain": [
       "   Comparison Percent.in.tail\n",
       "1  YRI-LWK    0.0197594502   \n",
       "2  YRI-GWD    0.0405172414   \n",
       "3  YRI-MSL    0.0055813953   \n",
       "4  YRI-ESN    0.0000000000   \n",
       "5  LWK-GWD    0.0881889764   \n",
       "6  LWK-MSL    0.0571428571   \n",
       "7  LWK-ESN    0.0233766234   \n",
       "8  GWD-MSL    0.0000000000   \n",
       "9  GWD-ESN    0.0522260274   \n",
       "10 MSL-ESN    0.0009191176   "
      ]
     },
     "metadata": {},
     "output_type": "display_data"
    }
   ],
   "source": [
    "tails <- data.frame(Comparison = c(\"YRI-LWK\", \"YRI-GWD\", \"YRI-MSL\", \"YRI-ESN\", \"LWK-GWD\", \"LWK-MSL\", \"LWK-ESN\", \"GWD-MSL\", \"GWD-ESN\", \"MSL-ESN\"), \n",
    "                    \"Percent in tail\" = c(YRI_LWK, YRI_GWD, YRI_MSL, YRI_ESN, LWK_GWD, LWK_MSL, LWK_ESN, GWD_MSL, GWD_ESN, MSL_ESN))\n",
    "\n",
    "tails"
   ]
  }
 ],
 "metadata": {
  "kernelspec": {
   "display_name": "R",
   "language": "R",
   "name": "ir"
  },
  "language_info": {
   "codemirror_mode": "r",
   "file_extension": ".r",
   "mimetype": "text/x-r-source",
   "name": "R",
   "pygments_lexer": "r",
   "version": "4.2.2"
  }
 },
 "nbformat": 4,
 "nbformat_minor": 5
}
